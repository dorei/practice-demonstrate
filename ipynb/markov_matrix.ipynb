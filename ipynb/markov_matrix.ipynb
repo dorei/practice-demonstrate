{
 "cells": [
  {
   "cell_type": "markdown",
   "metadata": {},
   "source": [
    "# Markov matrix\n",
    "\n",
    "Visualizing a Markov matrix."
   ]
  },
  {
   "cell_type": "code",
   "execution_count": 1,
   "metadata": {
    "ExecuteTime": {
     "end_time": "2018-03-09T05:00:44.412033Z",
     "start_time": "2018-03-09T05:00:43.307520Z"
    }
   },
   "outputs": [],
   "source": [
    "import pandas as pd\n",
    "import networkx as nx\n",
    "import numpy as np\n",
    "\n",
    "import matplotlib.pyplot as plt\n",
    "import seaborn as sns\n",
    "\n",
    "%matplotlib inline"
   ]
  },
  {
   "cell_type": "code",
   "execution_count": 2,
   "metadata": {
    "ExecuteTime": {
     "end_time": "2018-03-09T05:00:44.421181Z",
     "start_time": "2018-03-09T05:00:44.414875Z"
    }
   },
   "outputs": [],
   "source": [
    "sns.set_palette(\"Set2\")\n",
    "sns.set_style(\"whitegrid\")"
   ]
  },
  {
   "cell_type": "code",
   "execution_count": 3,
   "metadata": {
    "ExecuteTime": {
     "end_time": "2018-03-09T05:00:44.443123Z",
     "start_time": "2018-03-09T05:00:44.423521Z"
    }
   },
   "outputs": [],
   "source": [
    "transition_mat = pd.read_pickle(\"Transition_USA.pickle\")"
   ]
  },
  {
   "cell_type": "code",
   "execution_count": 4,
   "metadata": {
    "ExecuteTime": {
     "end_time": "2018-03-09T05:00:44.464430Z",
     "start_time": "2018-03-09T05:00:44.445850Z"
    }
   },
   "outputs": [],
   "source": [
    "df = transition_mat.div(transition_mat.Total, axis=0)\n",
    "df = df[df.columns[:-1]]\n",
    "df = df.round(2)"
   ]
  },
  {
   "cell_type": "markdown",
   "metadata": {},
   "source": [
    "### Adjacency matrix"
   ]
  },
  {
   "cell_type": "code",
   "execution_count": 5,
   "metadata": {
    "ExecuteTime": {
     "end_time": "2018-03-09T05:00:44.501484Z",
     "start_time": "2018-03-09T05:00:44.466709Z"
    },
    "scrolled": false
   },
   "outputs": [
    {
     "data": {
      "text/html": [
       "<div>\n",
       "<table border=\"1\" class=\"dataframe\">\n",
       "  <thead>\n",
       "    <tr style=\"text-align: right;\">\n",
       "      <th></th>\n",
       "      <th>A</th>\n",
       "      <th>B</th>\n",
       "      <th>C</th>\n",
       "      <th>D</th>\n",
       "      <th>E</th>\n",
       "      <th>F</th>\n",
       "      <th>G</th>\n",
       "    </tr>\n",
       "  </thead>\n",
       "  <tbody>\n",
       "    <tr>\n",
       "      <th>A</th>\n",
       "      <td>0.85</td>\n",
       "      <td>0.14</td>\n",
       "      <td>0.00</td>\n",
       "      <td>0.00</td>\n",
       "      <td>0.02</td>\n",
       "      <td>0.00</td>\n",
       "      <td>0.00</td>\n",
       "    </tr>\n",
       "    <tr>\n",
       "      <th>B</th>\n",
       "      <td>0.01</td>\n",
       "      <td>0.87</td>\n",
       "      <td>0.11</td>\n",
       "      <td>0.01</td>\n",
       "      <td>0.00</td>\n",
       "      <td>0.00</td>\n",
       "      <td>0.00</td>\n",
       "    </tr>\n",
       "    <tr>\n",
       "      <th>C</th>\n",
       "      <td>0.00</td>\n",
       "      <td>0.01</td>\n",
       "      <td>0.92</td>\n",
       "      <td>0.07</td>\n",
       "      <td>0.00</td>\n",
       "      <td>0.00</td>\n",
       "      <td>0.00</td>\n",
       "    </tr>\n",
       "    <tr>\n",
       "      <th>D</th>\n",
       "      <td>0.00</td>\n",
       "      <td>0.00</td>\n",
       "      <td>0.02</td>\n",
       "      <td>0.94</td>\n",
       "      <td>0.04</td>\n",
       "      <td>0.00</td>\n",
       "      <td>0.00</td>\n",
       "    </tr>\n",
       "    <tr>\n",
       "      <th>E</th>\n",
       "      <td>0.00</td>\n",
       "      <td>0.00</td>\n",
       "      <td>0.00</td>\n",
       "      <td>0.05</td>\n",
       "      <td>0.94</td>\n",
       "      <td>0.01</td>\n",
       "      <td>0.00</td>\n",
       "    </tr>\n",
       "    <tr>\n",
       "      <th>F</th>\n",
       "      <td>0.00</td>\n",
       "      <td>0.00</td>\n",
       "      <td>0.00</td>\n",
       "      <td>0.00</td>\n",
       "      <td>0.11</td>\n",
       "      <td>0.88</td>\n",
       "      <td>0.00</td>\n",
       "    </tr>\n",
       "    <tr>\n",
       "      <th>G</th>\n",
       "      <td>0.00</td>\n",
       "      <td>0.00</td>\n",
       "      <td>0.00</td>\n",
       "      <td>0.00</td>\n",
       "      <td>0.01</td>\n",
       "      <td>0.01</td>\n",
       "      <td>0.98</td>\n",
       "    </tr>\n",
       "  </tbody>\n",
       "</table>\n",
       "</div>"
      ],
      "text/plain": [
       "      A     B     C     D     E     F     G\n",
       "A  0.85  0.14  0.00  0.00  0.02  0.00  0.00\n",
       "B  0.01  0.87  0.11  0.01  0.00  0.00  0.00\n",
       "C  0.00  0.01  0.92  0.07  0.00  0.00  0.00\n",
       "D  0.00  0.00  0.02  0.94  0.04  0.00  0.00\n",
       "E  0.00  0.00  0.00  0.05  0.94  0.01  0.00\n",
       "F  0.00  0.00  0.00  0.00  0.11  0.88  0.00\n",
       "G  0.00  0.00  0.00  0.00  0.01  0.01  0.98"
      ]
     },
     "execution_count": 5,
     "metadata": {},
     "output_type": "execute_result"
    }
   ],
   "source": [
    "df"
   ]
  },
  {
   "cell_type": "markdown",
   "metadata": {},
   "source": [
    "### Adjacency list"
   ]
  },
  {
   "cell_type": "code",
   "execution_count": 6,
   "metadata": {
    "ExecuteTime": {
     "end_time": "2018-03-09T05:00:44.517732Z",
     "start_time": "2018-03-09T05:00:44.503678Z"
    },
    "scrolled": true
   },
   "outputs": [
    {
     "data": {
      "text/plain": [
       "{'A': {'A': 0.84999999999999998, 'B': 0.14000000000000001, 'E': 0.02},\n",
       " 'B': {'A': 0.01, 'B': 0.87, 'C': 0.11, 'D': 0.01},\n",
       " 'C': {'B': 0.01, 'C': 0.92000000000000004, 'D': 0.070000000000000007},\n",
       " 'D': {'C': 0.02, 'D': 0.93999999999999995, 'E': 0.040000000000000001},\n",
       " 'E': {'D': 0.050000000000000003, 'E': 0.93999999999999995, 'F': 0.01},\n",
       " 'F': {'E': 0.11, 'F': 0.88},\n",
       " 'G': {'E': 0.01, 'F': 0.01, 'G': 0.97999999999999998}}"
      ]
     },
     "execution_count": 6,
     "metadata": {},
     "output_type": "execute_result"
    }
   ],
   "source": [
    "graph = {}\n",
    "for score in df.index:\n",
    "    temp_d = {}\n",
    "    for i, e in enumerate(df.ix[score]):\n",
    "        if e != 0:\n",
    "            temp_d[df.columns[i]] = e\n",
    "    graph[score] = temp_d\n",
    "\n",
    "graph"
   ]
  },
  {
   "cell_type": "markdown",
   "metadata": {},
   "source": [
    "### Graph\n",
    "From a graph, it's easy see to that some nodes don't have many neighbors (A, C, F and G) and that E is central."
   ]
  },
  {
   "cell_type": "code",
   "execution_count": 7,
   "metadata": {
    "ExecuteTime": {
     "end_time": "2018-03-09T05:00:44.549174Z",
     "start_time": "2018-03-09T05:00:44.520262Z"
    }
   },
   "outputs": [],
   "source": [
    "DG = nx.MultiDiGraph()\n",
    "for i in df.index:\n",
    "    for j in df.columns:\n",
    "        if df.loc[i, j] > 0:\n",
    "            DG.add_weighted_edges_from([(i, j, df.loc[i, j])])"
   ]
  },
  {
   "cell_type": "code",
   "execution_count": 8,
   "metadata": {
    "ExecuteTime": {
     "end_time": "2018-03-09T05:00:45.083490Z",
     "start_time": "2018-03-09T05:00:44.551521Z"
    }
   },
   "outputs": [
    {
     "data": {
      "image/png": "[encoded data removed]",
      "text/plain": [
       "<matplotlib.figure.Figure at 0x7fa60ed6dac8>"
      ]
     },
     "metadata": {},
     "output_type": "display_data"
    }
   ],
   "source": [
    "fig, ax = plt.subplots(figsize=(16.5, 6))\n",
    "\n",
    "pos = nx.spring_layout(DG)\n",
    "new_labels = dict(map(lambda x:((x[0],x[1]), str(x[2]['weight'] if x[2]['weight']<=3 else \"\") ), DG.edges(data = True)))\n",
    "nx.draw_networkx(DG, pos=pos, alpha=.3)\n",
    "nx.draw_networkx_nodes(DG, pos=pos, node_color=\"#33d3af\")\n",
    "nx.draw_networkx_edge_labels(DG, pos=pos, edge_labels = new_labels)\n",
    "plt.show()"
   ]
  },
  {
   "cell_type": "markdown",
   "metadata": {},
   "source": [
    "### Barplots\n",
    "Barplots show more clearly maybe unexpected neighbors, such as A and E. Some odds are well communicated too (G's self-loop has the highest probability)."
   ]
  },
  {
   "cell_type": "code",
   "execution_count": 9,
   "metadata": {
    "ExecuteTime": {
     "end_time": "2018-03-09T05:00:46.477967Z",
     "start_time": "2018-03-09T05:00:45.086848Z"
    },
    "scrolled": false
   },
   "outputs": [
    {
     "data": {
      "image/png": "[encoded data removed]",
      "text/plain": [
       "<matplotlib.figure.Figure at 0x7fa60ed6db70>"
      ]
     },
     "metadata": {},
     "output_type": "display_data"
    }
   ],
   "source": [
    "fig = plt.figure(figsize=(16.5, 3))\n",
    "fig.subplots_adjust(hspace=0.4, wspace=0.4)\n",
    "for i in range(1, 8):\n",
    "    ax = fig.add_subplot(1, 7, i)\n",
    "    df.ix[i - 1].plot(kind=\"bar\", title=df.columns[i - 1])\n",
    "    ax.set_ylim([0, 1])"
   ]
  },
  {
   "cell_type": "markdown",
   "metadata": {},
   "source": [
    "### Inverse weights and Dijkstra's algorithm\n",
    "I inverse weights to make shortest-path type of algorithms applicable to my graph."
   ]
  },
  {
   "cell_type": "code",
   "execution_count": 10,
   "metadata": {
    "ExecuteTime": {
     "end_time": "2018-03-09T05:00:46.489826Z",
     "start_time": "2018-03-09T05:00:46.481126Z"
    },
    "scrolled": true
   },
   "outputs": [
    {
     "data": {
      "text/plain": [
       "{'length': 0.029999999999999999, 'path': ['B', 'A', 'E']}"
      ]
     },
     "execution_count": 10,
     "metadata": {},
     "output_type": "execute_result"
    }
   ],
   "source": [
    "{\"path\": nx.dijkstra_path(G=DG, source=\"B\", target=\"E\"),\n",
    "\"length\": nx.dijkstra_path_length(G=DG, source=\"B\", target=\"E\")}"
   ]
  },
  {
   "cell_type": "code",
   "execution_count": 11,
   "metadata": {
    "ExecuteTime": {
     "end_time": "2018-03-09T05:00:46.548780Z",
     "start_time": "2018-03-09T05:00:46.492877Z"
    }
   },
   "outputs": [],
   "source": [
    "DG_inv = nx.MultiDiGraph()\n",
    "for i in df.index:\n",
    "    for j in df.columns:\n",
    "        if df.loc[i, j] > 0:\n",
    "            DG_inv.add_weighted_edges_from([(i, j, 1/df.loc[i, j])])"
   ]
  },
  {
   "cell_type": "code",
   "execution_count": 12,
   "metadata": {
    "ExecuteTime": {
     "end_time": "2018-03-09T05:00:46.559771Z",
     "start_time": "2018-03-09T05:00:46.552504Z"
    }
   },
   "outputs": [
    {
     "data": {
      "text/plain": [
       "{'length': 48.376623376623378, 'path': ['B', 'C', 'D', 'E']}"
      ]
     },
     "execution_count": 12,
     "metadata": {},
     "output_type": "execute_result"
    }
   ],
   "source": [
    "{\"path\": nx.dijkstra_path(G=DG_inv, source=\"B\", target=\"E\"),\n",
    "\"length\": nx.dijkstra_path_length(G=DG_inv, source=\"B\", target=\"E\")}"
   ]
  },
  {
   "cell_type": "code",
   "execution_count": 13,
   "metadata": {
    "ExecuteTime": {
     "end_time": "2018-03-09T05:00:46.590849Z",
     "start_time": "2018-03-09T05:00:46.562111Z"
    }
   },
   "outputs": [
    {
     "data": {
      "text/plain": [
       "{'length': 50.0, 'path': ['A', 'E']}"
      ]
     },
     "execution_count": 13,
     "metadata": {},
     "output_type": "execute_result"
    }
   ],
   "source": [
    "{\"path\": nx.dijkstra_path(G=DG_inv, source=\"A\", target=\"E\"),\n",
    "\"length\": nx.dijkstra_path_length(G=DG_inv, source=\"A\", target=\"E\")}"
   ]
  },
  {
   "cell_type": "markdown",
   "metadata": {},
   "source": [
    "### Odds for t > 1\n",
    "We can see that in the long-run, there is a stabilization around D and E."
   ]
  },
  {
   "cell_type": "code",
   "execution_count": 14,
   "metadata": {
    "ExecuteTime": {
     "end_time": "2018-03-09T05:00:46.630904Z",
     "start_time": "2018-03-09T05:00:46.593555Z"
    },
    "scrolled": true
   },
   "outputs": [
    {
     "data": {
      "text/html": [
       "<div>\n",
       "<table border=\"1\" class=\"dataframe\">\n",
       "  <thead>\n",
       "    <tr style=\"text-align: right;\">\n",
       "      <th></th>\n",
       "      <th>A</th>\n",
       "      <th>B</th>\n",
       "      <th>C</th>\n",
       "      <th>D</th>\n",
       "      <th>E</th>\n",
       "      <th>F</th>\n",
       "      <th>G</th>\n",
       "    </tr>\n",
       "  </thead>\n",
       "  <tbody>\n",
       "    <tr>\n",
       "      <th>A</th>\n",
       "      <td>0.7239</td>\n",
       "      <td>0.2408</td>\n",
       "      <td>0.0154</td>\n",
       "      <td>0.0024</td>\n",
       "      <td>0.0358</td>\n",
       "      <td>0.0002</td>\n",
       "      <td>0.0000</td>\n",
       "    </tr>\n",
       "    <tr>\n",
       "      <th>B</th>\n",
       "      <td>0.0172</td>\n",
       "      <td>0.7594</td>\n",
       "      <td>0.1971</td>\n",
       "      <td>0.0258</td>\n",
       "      <td>0.0006</td>\n",
       "      <td>0.0000</td>\n",
       "      <td>0.0000</td>\n",
       "    </tr>\n",
       "    <tr>\n",
       "      <th>C</th>\n",
       "      <td>0.0001</td>\n",
       "      <td>0.0179</td>\n",
       "      <td>0.8489</td>\n",
       "      <td>0.1303</td>\n",
       "      <td>0.0028</td>\n",
       "      <td>0.0000</td>\n",
       "      <td>0.0000</td>\n",
       "    </tr>\n",
       "    <tr>\n",
       "      <th>D</th>\n",
       "      <td>0.0000</td>\n",
       "      <td>0.0002</td>\n",
       "      <td>0.0372</td>\n",
       "      <td>0.8870</td>\n",
       "      <td>0.0752</td>\n",
       "      <td>0.0004</td>\n",
       "      <td>0.0000</td>\n",
       "    </tr>\n",
       "    <tr>\n",
       "      <th>E</th>\n",
       "      <td>0.0000</td>\n",
       "      <td>0.0000</td>\n",
       "      <td>0.0010</td>\n",
       "      <td>0.0940</td>\n",
       "      <td>0.8867</td>\n",
       "      <td>0.0182</td>\n",
       "      <td>0.0000</td>\n",
       "    </tr>\n",
       "    <tr>\n",
       "      <th>F</th>\n",
       "      <td>0.0000</td>\n",
       "      <td>0.0000</td>\n",
       "      <td>0.0000</td>\n",
       "      <td>0.0055</td>\n",
       "      <td>0.2002</td>\n",
       "      <td>0.7755</td>\n",
       "      <td>0.0000</td>\n",
       "    </tr>\n",
       "    <tr>\n",
       "      <th>G</th>\n",
       "      <td>0.0000</td>\n",
       "      <td>0.0000</td>\n",
       "      <td>0.0000</td>\n",
       "      <td>0.0005</td>\n",
       "      <td>0.0203</td>\n",
       "      <td>0.0187</td>\n",
       "      <td>0.9604</td>\n",
       "    </tr>\n",
       "  </tbody>\n",
       "</table>\n",
       "</div>"
      ],
      "text/plain": [
       "        A       B       C       D       E       F       G\n",
       "A  0.7239  0.2408  0.0154  0.0024  0.0358  0.0002  0.0000\n",
       "B  0.0172  0.7594  0.1971  0.0258  0.0006  0.0000  0.0000\n",
       "C  0.0001  0.0179  0.8489  0.1303  0.0028  0.0000  0.0000\n",
       "D  0.0000  0.0002  0.0372  0.8870  0.0752  0.0004  0.0000\n",
       "E  0.0000  0.0000  0.0010  0.0940  0.8867  0.0182  0.0000\n",
       "F  0.0000  0.0000  0.0000  0.0055  0.2002  0.7755  0.0000\n",
       "G  0.0000  0.0000  0.0000  0.0005  0.0203  0.0187  0.9604"
      ]
     },
     "execution_count": 14,
     "metadata": {},
     "output_type": "execute_result"
    }
   ],
   "source": [
    "#for A at t=2\n",
    "names = df.columns\n",
    "pd.DataFrame(\n",
    "            np.linalg.matrix_power(np.matrix(df), 2),\n",
    "            columns=names,\n",
    "            index=names)"
   ]
  },
  {
   "cell_type": "code",
   "execution_count": 15,
   "metadata": {
    "ExecuteTime": {
     "end_time": "2018-03-09T05:00:48.166558Z",
     "start_time": "2018-03-09T05:00:46.633302Z"
    }
   },
   "outputs": [
    {
     "data": {
      "image/png": "[encoded data removed]",
      "text/plain": [
       "<matplotlib.figure.Figure at 0x7fa60ecb5588>"
      ]
     },
     "metadata": {},
     "output_type": "display_data"
    }
   ],
   "source": [
    "t = [1, 2, 10, 100, 1000]\n",
    "\n",
    "fig = plt.figure(figsize=(16.5, 3))\n",
    "fig.subplots_adjust(hspace=0.4, wspace=0.4)\n",
    "for i, e in enumerate(t):\n",
    "    ax = fig.add_subplot(1, len(t), i + 1)\n",
    "    sns.heatmap(\n",
    "        pd.DataFrame(\n",
    "            np.linalg.matrix_power(np.matrix(df), e),\n",
    "            columns=names,\n",
    "            index=names),\n",
    "        vmin=0,\n",
    "        vmax=1,\n",
    "        cmap=\"GnBu\")\n",
    "    ax.set_title(\"t=%s\" % str(e))"
   ]
  }
 ],
 "metadata": {
  "hide_input": false,
  "kernelspec": {
   "display_name": "Python 3",
   "language": "python",
   "name": "python3"
  },
  "varInspector": {
   "cols": {
    "lenName": 16,
    "lenType": 16,
    "lenVar": 40
   },
   "kernels_config": {
    "python": {
     "delete_cmd_postfix": "",
     "delete_cmd_prefix": "del ",
     "library": "var_list.py",
     "varRefreshCmd": "print(var_dic_list())"
    },
    "r": {
     "delete_cmd_postfix": ") ",
     "delete_cmd_prefix": "rm(",
     "library": "var_list.r",
     "varRefreshCmd": "cat(var_dic_list()) "
    }
   },
   "types_to_exclude": [
    "module",
    "function",
    "builtin_function_or_method",
    "instance",
    "_Feature"
   ],
   "window_display": false
  }
 },
 "nbformat": 4,
 "nbformat_minor": 2
}
